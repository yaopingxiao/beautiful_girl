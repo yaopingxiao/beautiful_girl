{
 "cells": [
  {
   "cell_type": "code",
   "execution_count": null,
   "metadata": {},
   "outputs": [],
   "source": [
    "import cv2\n",
    "import numpy as np\n",
    "def ransacMatching(img_1,img_2,k，d):\n",
    "    pts_src=np.array([[A1,A2],[B1,B2],[C1,C2],[D1,D2]])#原始图像的四个点\n",
    "    pts_dist=np.array([[E1,E2],[F1,F2],[G1,G2],[H1,H2]])#预制相配的四个目标图像的点\n",
    "    homography, status = cv2.findHomography(pts_src, pts_dst)#计算h矩阵\n",
    "    while iterations<k:\n",
    "        \n",
    "        maybemodel = 4个点拟合出来的可能符合要求的模型\n",
    "        alsoinliers = emptyset 满足误差要求的样本点,开始置空\n",
    "        for 每一个不是maybeinliers的样本点：\n",
    "            if 满足maybemodel即error < t\n",
    "                将点加入alsoinliers\n",
    "        if (alsoinliers样本点数目 > d)：\n",
    "            bettermodel = 利用所有的maybeinliers 和 alsoinliers 重新生成更好的模型\n",
    "            thiserr = 所有的maybeinliers 和 alsoinliers 样本点的误差度量\n",
    "            if thiserr < besterr\n",
    "            \n",
    "                bestfit = bettermodel\n",
    "                besterr = thiserr\n",
    "            \n",
    "        \n",
    "        iterations++\n",
    "    \n",
    "    return bestfit\n"
   ]
  }
 ],
 "metadata": {
  "kernelspec": {
   "display_name": "Python 3",
   "language": "python",
   "name": "python3"
  },
  "language_info": {
   "codemirror_mode": {
    "name": "ipython",
    "version": 3
   },
   "file_extension": ".py",
   "mimetype": "text/x-python",
   "name": "python",
   "nbconvert_exporter": "python",
   "pygments_lexer": "ipython3",
   "version": "3.6.8"
  }
 },
 "nbformat": 4,
 "nbformat_minor": 2
}
