{
 "cells": [
  {
   "cell_type": "code",
   "execution_count": 1,
   "metadata": {},
   "outputs": [],
   "source": [
    "import cv2\n",
    "import random\n",
    "import numpy as np\n",
    "from matplotlib import pyplot as  plt"
   ]
  },
  {
   "cell_type": "code",
   "execution_count": 2,
   "metadata": {},
   "outputs": [],
   "source": [
    "img_gray=cv2.imread('C:\\\\Users\\\\XYP\\\\Desktop\\\\photo\\\\xz1.jpeg',0)\n",
    "#cv2.imshow('xiaozhan',img_gray)\n",
    "#key = cv2.waitKey()\n",
    "#cv2.destroyAllwindows()"
   ]
  },
  {
   "cell_type": "code",
   "execution_count": 3,
   "metadata": {},
   "outputs": [
    {
     "name": "stdout",
     "output_type": "stream",
     "text": [
      "[[ 79  80  82 ...  86  83  83]\n",
      " [ 76  77  79 ...  83  83  83]\n",
      " [ 75  76  77 ...  80  82  82]\n",
      " ...\n",
      " [159 157 153 ...   9   8   8]\n",
      " [148 145 142 ...   8   8   8]\n",
      " [139 137 133 ...   7   8   8]]\n",
      "uint8\n",
      "(507, 490)\n"
     ]
    }
   ],
   "source": [
    "print(img_gray)\n",
    "print(img_gray.dtype)\n",
    "print(img_gray.shape)"
   ]
  },
  {
   "cell_type": "code",
   "execution_count": 2,
   "metadata": {},
   "outputs": [],
   "source": [
    "img=cv2.imread('C:\\\\Users\\\\XYP\\\\Desktop\\\\photo\\\\xz1.jpeg')\n",
    "#cv2.imshow('xiaozhan1',img)\n",
    "\n",
    "#img_crop=img[0:100,0:100]\n",
    "#cv2.imshow('img_crop',img_crop)\n",
    "#key=cv2.waitKey()\n",
    "#cv2.destroyAllwindows()"
   ]
  },
  {
   "cell_type": "code",
   "execution_count": null,
   "metadata": {},
   "outputs": [],
   "source": [
    "print(img)\n",
    "print(img.dtype)\n",
    "print(img.shape)"
   ]
  },
  {
   "cell_type": "code",
   "execution_count": null,
   "metadata": {},
   "outputs": [],
   "source": [
    "img_crop=img[0:100,0:100]\n",
    "cv2.imshow('img_crop',img_crop)\n",
    "key=cv2.waitKey()\n",
    "#cv2.destroyAllwindows()"
   ]
  },
  {
   "cell_type": "code",
   "execution_count": null,
   "metadata": {},
   "outputs": [],
   "source": [
    "B,G,R=cv2.split(img)\n",
    "cv2.imshow('B',B)\n",
    "cv2.imshow('G',G)\n",
    "cv2.imshow('R',R)\n",
    "key=cv2.waitKey()\n",
    "#cv2.destroyAllwindows()"
   ]
  },
  {
   "cell_type": "code",
   "execution_count": null,
   "metadata": {},
   "outputs": [],
   "source": [
    "def random_light_color(img):\n",
    "    B,G,R=cv2.split(img)\n",
    "    b_rand=random.randint(-50,50)\n",
    "    if b_rand==0:\n",
    "        pass\n",
    "    elif b_rand>0:\n",
    "        lim=255-b_rand\n",
    "        B[B>lim]=255\n",
    "        B[B <= lim] = (b_rand + B[B <= lim]).astype(img.dtype)\n",
    "    elif b_rand<0:\n",
    "        lim = 0 - b_rand\n",
    "        B[B < lim] = 0\n",
    "        B[B >= lim] = (b_rand + B[B >= lim]).astype(img.dtype)\n",
    "    g_rand = random.randint(-50, 50)\n",
    "    if g_rand == 0:\n",
    "        pass\n",
    "    elif g_rand > 0:\n",
    "        lim = 255 - g_rand\n",
    "        G[G > lim] = 255\n",
    "        G[G <= lim] = (g_rand + G[G <= lim]).astype(img.dtype)\n",
    "    elif g_rand < 0:\n",
    "        lim = 0 - g_rand\n",
    "        G[G < lim] = 0\n",
    "        G[G >= lim] = (g_rand + G[G >= lim]).astype(img.dtype) \n",
    "    r_rand = random.randint(-50, 50)\n",
    "    if r_rand == 0:\n",
    "        pass\n",
    "    elif r_rand > 0:\n",
    "        lim = 255 - r_rand\n",
    "        R[R > lim] = 255\n",
    "        R[R <= lim] = (r_rand + R[R <= lim]).astype(img.dtype)\n",
    "    elif r_rand < 0:\n",
    "        lim = 0 - r_rand\n",
    "        R[R < lim] = 0\n",
    "        R[R >= lim] = (r_rand + R[R >= lim]).astype(img.dtype)\n",
    "    img_merge = cv2.merge((B, G, R))\n",
    "    return  img_merge\n",
    "img=cv2.imread('C:\\\\Users\\\\XYP\\\\Desktop\\\\photo\\\\xz1.jpeg')\n",
    "img_random_color=random_light_color(img)\n",
    "cv2.imshow('img_random_color',img_random_color)\n",
    "key=cv2.waitKey()"
   ]
  },
  {
   "cell_type": "code",
   "execution_count": 2,
   "metadata": {},
   "outputs": [],
   "source": [
    "img_dark=cv2.imread('C:\\\\Users\\\\XYP\\\\Desktop\\\\photo\\\\xz1.jpeg')\n",
    "#cv2.imshow('img_dark', img_dark)\n",
    "#key=cv2.waitKey()\n",
    "def adjust_gamma(image,gamma=1.0):\n",
    "    invGamma=1.0/gamma\n",
    "    table=[]\n",
    "    for i in range(256):\n",
    "        table.append(((i / 255.0) ** invGamma)*255)\n",
    "    table = np.array(table).astype(\"uint8\")\n",
    "    return cv2.LUT(image, table)\n",
    "img_brighter = adjust_gamma(img_dark, 5)\n",
    "#cv2.imshow('img_dark', img_dark)\n",
    "#cv2.imshow('img_brighter', img_brighter)\n",
    "#key = cv2.waitKey()"
   ]
  },
  {
   "cell_type": "code",
   "execution_count": null,
   "metadata": {},
   "outputs": [],
   "source": [
    "img_small_brighter = cv2.resize(img_brighter, (int(img_brighter.shape[0]*1), int(img_brighter.shape[1]*1)))\n",
    "plt.hist(img_brighter.flatten(), 256,[0,256]  ,color = 'r')\n",
    "img_yuv = cv2.cvtColor(img_small_brighter, cv2.COLOR_BGR2YUV)\n",
    "img_yuv[:,:,0] = cv2.equalizeHist(img_yuv[:,:,0]) \n",
    "img_output = cv2.cvtColor(img_yuv, cv2.COLOR_YUV2BGR)\n",
    "cv2.imshow('Color input image', img_small_brighter)\n",
    "cv2.imshow('Histogram equalized', img_output)\n",
    "key = cv2.waitKey()"
   ]
  },
  {
   "cell_type": "code",
   "execution_count": null,
   "metadata": {},
   "outputs": [
    {
     "name": "stdout",
     "output_type": "stream",
     "text": [
      "[[  0.8660254   -0.5        156.46256014]\n",
      " [  0.5          0.8660254  -93.92622393]]\n"
     ]
    }
   ],
   "source": [
    "M=cv2.getRotationMatrix2D((img.shape[0]/2,img.shape[1]/2),-30,1)\n",
    "img_rotate = cv2.warpAffine(img, M, (img.shape[0], img.shape[1]))\n",
    "cv2.imshow('img_rotate', img_rotate)\n",
    "\n",
    "print(M)\n",
    "#img_rotate2 = cv2.warpAffine(img, M, (img.shape[1], img.shape[0]))\n",
    "#cv2.imshow('rotated lenna2', img_rotate2)\n",
    "key = cv2.waitKey()"
   ]
  },
  {
   "cell_type": "code",
   "execution_count": null,
   "metadata": {},
   "outputs": [],
   "source": [
    "rows, cols, ch = img.shape\n",
    "pts1 = np.float32([[0, 0], [cols - 1, 0], [0, rows - 1]])\n",
    "pts2 = np.float32([[cols * 0.2, rows * 0.1], [cols * 0.9, rows * 0.2], [cols * 0.1, rows * 0.9]])\n",
    " \n",
    "M = cv2.getAffineTransform(pts1, pts2)\n",
    "dst = cv2.warpAffine(img, M, (cols, rows))\n",
    "\n",
    "cv2.imshow('affine lenna', dst)\n",
    "key = cv2.waitKey()"
   ]
  },
  {
   "cell_type": "code",
   "execution_count": null,
   "metadata": {},
   "outputs": [],
   "source": [
    "def random_warp(img, row, col):\n",
    "    height, width, channels = img.shape\n",
    "    random_margin = 60\n",
    "    x1 = random.randint(-random_margin, random_margin)\n",
    "    y1 = random.randint(-random_margin, random_margin)\n",
    "    x2 = random.randint(width - random_margin - 1, width - 1)\n",
    "    y2 = random.randint(-random_margin, random_margin)\n",
    "    x3 = random.randint(width - random_margin - 1, width - 1)\n",
    "    y3 = random.randint(height - random_margin - 1, height - 1)\n",
    "    x4 = random.randint(-random_margin, random_margin)\n",
    "    y4 = random.randint(height - random_margin - 1, height - 1)\n",
    "\n",
    "    dx1 = random.randint(-random_margin, random_margin)\n",
    "    dy1 = random.randint(-random_margin, random_margin)\n",
    "    dx2 = random.randint(width - random_margin - 1, width - 1)\n",
    "    dy2 = random.randint(-random_margin, random_margin)\n",
    "    dx3 = random.randint(width - random_margin - 1, width - 1)\n",
    "    dy3 = random.randint(height - random_margin - 1, height - 1)\n",
    "    dx4 = random.randint(-random_margin, random_margin)\n",
    "    dy4 = random.randint(height - random_margin - 1, height - 1)\n",
    "\n",
    "    pts1 = np.float32([[x1, y1], [x2, y2], [x3, y3], [x4, y4]])\n",
    "    pts2 = np.float32([[dx1, dy1], [dx2, dy2], [dx3, dy3], [dx4, dy4]])\n",
    "    M_warp = cv2.getPerspectiveTransform(pts1, pts2)\n",
    "    img_warp = cv2.warpPerspective(img, M_warp, (width, height))\n",
    "    return M_warp, img_warp\n",
    "M_warp, img_warp = random_warp(img, img.shape[0], img.shape[1])\n",
    "cv2.imshow('lenna_warp', img_warp)\n",
    "key = cv2.waitKey()"
   ]
  },
  {
   "cell_type": "code",
   "execution_count": null,
   "metadata": {},
   "outputs": [],
   "source": []
  }
 ],
 "metadata": {
  "kernelspec": {
   "display_name": "Python 3",
   "language": "python",
   "name": "python3"
  },
  "language_info": {
   "codemirror_mode": {
    "name": "ipython",
    "version": 3
   },
   "file_extension": ".py",
   "mimetype": "text/x-python",
   "name": "python",
   "nbconvert_exporter": "python",
   "pygments_lexer": "ipython3",
   "version": "3.6.8"
  }
 },
 "nbformat": 4,
 "nbformat_minor": 2
}
