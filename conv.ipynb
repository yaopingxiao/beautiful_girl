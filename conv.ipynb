{
 "cells": [
  {
   "cell_type": "code",
   "execution_count": 16,
   "metadata": {},
   "outputs": [],
   "source": [
    "import cv2\n",
    "import numpy as np"
   ]
  },
  {
   "cell_type": "code",
   "execution_count": 17,
   "metadata": {},
   "outputs": [],
   "source": [
    "img_gray=cv2.imread('C:\\\\Users\\\\XYP\\\\Desktop\\\\index.jpg',0)\n",
    "#cv2.imshow('xiaozhao',img_gray)\n",
    "#key=cv2.waitKey()\n",
    "#cv2.destroyAllwindows()"
   ]
  },
  {
   "cell_type": "code",
   "execution_count": 18,
   "metadata": {},
   "outputs": [],
   "source": [
    "def padding_(img,type):\n",
    "    if type=='ZERO':\n",
    "        img_padding= cv2.copyMakeBorder(img,2,2,2,2,cv2.BORDER_CONSTANT,value=0)\n",
    "        return img_padding\n",
    "    if type=='REPLICA':\n",
    "        img_padding=cv2.copyMakeBorder(img,2,2,2,2,cv2.BORDER_REPLICATE)\n",
    "        return img_padding"
   ]
  },
  {
   "cell_type": "code",
   "execution_count": 19,
   "metadata": {},
   "outputs": [],
   "source": [
    "kernel= np.array(([-1,-1,-1],[-1,8,-1],[-1,-1,-1]))\n"
   ]
  },
  {
   "cell_type": "code",
   "execution_count": null,
   "metadata": {},
   "outputs": [],
   "source": [
    "def medianBlur(img, kernel, padding_way):\n",
    "    img_padding_1=padding_(img,padding_way)\n",
    "    img_new=np.zeros((img_padding_1.shape[0],img_padding_1.shape[1]))\n",
    "    H,W=img_padding_1.shape\n",
    "    for i in range(1,H-2):\n",
    "        for j in range(1,W-2):\n",
    "            detaV = (8*img_padding_1[i, j]-img_padding_1[i-1, j-1]-img_padding_1[i-1, j]-img_padding_1[i-1, j+1]-img_padding_1[i, j-1]-img_padding_1[i, j+1]-img_padding_1[i+1, j-1]-img_padding_1[i+1, j]-img_padding_1[i+1, j+1])\n",
    "            if detaV<0:\n",
    "                img_new[i-1,j-1]=0\n",
    "            else:\n",
    "                img_new[i-1,j-1]=detaV\n",
    "    cv2.imwrite('img_new',img_new)\n",
    "    img_new = img_new.astype(np.uint8)\n",
    "    cv2.namedWindow('img_new')\n",
    "    cv2.imshow('img_new',img_new)\n",
    "    cv2.waitKey()\n",
    " \n",
    "    cv2.destroyAllWindows()\n",
    "            "
   ]
  },
  {
   "cell_type": "code",
   "execution_count": null,
   "metadata": {},
   "outputs": [],
   "source": [
    "medianBlur(img_gray,kernel,'ZERO')"
   ]
  },
  {
   "cell_type": "code",
   "execution_count": null,
   "metadata": {},
   "outputs": [],
   "source": []
  }
 ],
 "metadata": {
  "kernelspec": {
   "display_name": "Python 3",
   "language": "python",
   "name": "python3"
  },
  "language_info": {
   "codemirror_mode": {
    "name": "ipython",
    "version": 3
   },
   "file_extension": ".py",
   "mimetype": "text/x-python",
   "name": "python",
   "nbconvert_exporter": "python",
   "pygments_lexer": "ipython3",
   "version": "3.6.8"
  }
 },
 "nbformat": 4,
 "nbformat_minor": 2
}
